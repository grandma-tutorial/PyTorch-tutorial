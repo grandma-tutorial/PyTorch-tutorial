{
  "nbformat": 4,
  "nbformat_minor": 0,
  "metadata": {
    "colab": {
      "name": "pytorch_autograd_1.ipynb",
      "provenance": [],
      "authorship_tag": "ABX9TyNIBUfTwc/EPqVRH0RTFrQM",
      "include_colab_link": true
    },
    "kernelspec": {
      "name": "python3",
      "display_name": "Python 3"
    },
    "language_info": {
      "name": "python"
    }
  },
  "cells": [
    {
      "cell_type": "markdown",
      "metadata": {
        "id": "view-in-github",
        "colab_type": "text"
      },
      "source": [
        "<a href=\"https://colab.research.google.com/github/grandma-tutorial/PyTorch-tutorial/blob/main/pytorch_autograd_1.ipynb\" target=\"_parent\"><img src=\"https://colab.research.google.com/assets/colab-badge.svg\" alt=\"Open In Colab\"/></a>"
      ]
    },
    {
      "cell_type": "code",
      "metadata": {
        "id": "M6XScsjCYOXV"
      },
      "source": [
        "import torch, torchvision\n",
        "model = torchvision.models.resnet18(pretrained=True)"
      ],
      "execution_count": null,
      "outputs": []
    },
    {
      "cell_type": "code",
      "metadata": {
        "colab": {
          "base_uri": "https://localhost:8080/"
        },
        "id": "YYzVyEH6zDCx",
        "outputId": "55aff385-5a1f-4f76-e9f2-e03aea3df2af"
      },
      "source": [
        "input_data = torch.rand(1, 3, 64, 64)\n",
        "print(\"input data shape : \", input_data.shape)\n",
        "\n",
        "labels = torch.rand(1, 1000)\n",
        "print(\"label shape      : \", labels.shape)\n",
        "\n",
        "prediction = model(input_data) # forward pass\n",
        "print(\"prediction shape : \", prediction.shape)"
      ],
      "execution_count": null,
      "outputs": [
        {
          "output_type": "stream",
          "text": [
            "input data shape :  torch.Size([1, 3, 64, 64])\n",
            "label shape      :  torch.Size([1, 1000])\n",
            "prediction shape :  torch.Size([1, 1000])\n"
          ],
          "name": "stdout"
        }
      ]
    },
    {
      "cell_type": "code",
      "metadata": {
        "id": "jIaAGtZ10hfZ"
      },
      "source": [
        "loss = (prediction - labels).sum()\n",
        "loss.backward() # backward pass"
      ],
      "execution_count": null,
      "outputs": []
    },
    {
      "cell_type": "code",
      "metadata": {
        "id": "kBkuJ3Zd0hqz"
      },
      "source": [
        "optim = torch.optim.SGD(model.parameters(), lr=1e-2, momentum=0.9)"
      ],
      "execution_count": null,
      "outputs": []
    },
    {
      "cell_type": "code",
      "metadata": {
        "id": "LHjnZ_EE0hug"
      },
      "source": [
        "optim.step() #gradient descent"
      ],
      "execution_count": null,
      "outputs": []
    },
    {
      "cell_type": "code",
      "metadata": {
        "id": "wp5v56AD7Kty"
      },
      "source": [
        ""
      ],
      "execution_count": null,
      "outputs": []
    }
  ]
}